{
 "cells": [
  {
   "cell_type": "markdown",
   "metadata": {},
   "source": [
    "# Malaria Cell Classification with Convolution Neural Network using Keras"
   ]
  },
  {
   "cell_type": "code",
   "execution_count": 1,
   "metadata": {
    "_cell_guid": "b1076dfc-b9ad-4769-8c92-a6c4dae69d19",
    "_uuid": "8f2839f25d086af736a60e9eeb907d3b93b6e0e5"
   },
   "outputs": [],
   "source": [
    "#Importing Libraries\n",
    "import numpy as np\n",
    "import pandas as pd\n",
    "import cv2\n",
    "from PIL import Image\n",
    "import os"
   ]
  },
  {
   "cell_type": "code",
   "execution_count": 2,
   "metadata": {
    "_cell_guid": "79c7e3d0-c299-4dcb-8224-4455121ee9b0",
    "_uuid": "d629ff2d2480ee46fbb7e2d37f6b5fab8052498a"
   },
   "outputs": [],
   "source": [
    "W = 32\n",
    "H = 32\n",
    "\n",
    "dataset = []\n",
    "label = []\n",
    "infected = os.listdir(\"../input/cell_images/cell_images/Parasitized\")\n",
    "uninfected = os.listdir(\"../input/cell_images/cell_images/Uninfected\")\n"
   ]
  },
  {
   "cell_type": "code",
   "execution_count": 3,
   "metadata": {
    "_uuid": "72008c99adf9e7057cddccd14460acd9503ddd3e"
   },
   "outputs": [],
   "source": [
    "for i in infected:\n",
    "    x = len(i)\n",
    "    if i[x-3]=='p' and i[x-2]=='n' and i[x-1]=='g':\n",
    "        try:\n",
    "            image = cv2.imread(\"../input/cell_images/cell_images/Parasitized/\"+i)\n",
    "            image = cv2.resize(image,(W,H))\n",
    "            dataset.append(image/255)\n",
    "            label.append(1)\n",
    "            #cv2.imshow('original',image)\n",
    "            img = Image.fromarray(image)\n",
    "            \n",
    "            clockwise = np.array(img.rotate(-45))\n",
    "            dataset.append(clockwise/255)\n",
    "            label.append(1)\n",
    "            #cv2.imshow('clockwise',clockwise)\n",
    "            \n",
    "            anticlockwise = np.array(img.rotate(+45))\n",
    "            dataset.append(anticlockwise/255)\n",
    "            label.append(1)\n",
    "            #cv2.imshow('anticlockwise',anticlockwise)\n",
    "        except AttributeError:\n",
    "            print(\"error\")\n"
   ]
  },
  {
   "cell_type": "code",
   "execution_count": 4,
   "metadata": {
    "_uuid": "73ecd03b5cf93539b16d70548171aa2f430c239e"
   },
   "outputs": [],
   "source": [
    "for i in uninfected:\n",
    "    x = len(i)\n",
    "    if i[x-3]=='p' and i[x-2]=='n' and i[x-1]=='g':\n",
    "        try:\n",
    "            image = cv2.imread(\"../input/cell_images/cell_images/Uninfected/\"+i)\n",
    "            image = cv2.resize(image,(W,H))\n",
    "            dataset.append(image/255)\n",
    "            label.append(0)\n",
    "            #cv2.imshow('original',image)\n",
    "            img = Image.fromarray(image)\n",
    "            \n",
    "            clockwise = np.array(img.rotate(-45))\n",
    "            dataset.append(clockwise/255)\n",
    "            label.append(0)\n",
    "            #cv2.imshow('clockwise',clockwise)\n",
    "            \n",
    "            anticlockwise = np.array(img.rotate(+45))\n",
    "            dataset.append(anticlockwise/255)\n",
    "            label.append(0)\n",
    "            #cv2.imshow('anticlockwise',anticlockwise)\n",
    "        except AttributeError:\n",
    "            print(\"error\")"
   ]
  },
  {
   "cell_type": "code",
   "execution_count": 5,
   "metadata": {
    "_uuid": "a332a8ab8508f68c089abc2e51062bbd3f515610"
   },
   "outputs": [],
   "source": [
    "\n",
    "#Converting List to numpy array\n",
    "X = np.asarray(dataset)\n",
    "y = np.asarray(label)"
   ]
  },
  {
   "cell_type": "code",
   "execution_count": 6,
   "metadata": {
    "_uuid": "4ca850c86383f8255c72f4c1f8d804549d7fc5ef",
    "scrolled": true
   },
   "outputs": [
    {
     "name": "stdout",
     "output_type": "stream",
     "text": [
      "Training samples =  49604\n",
      "Testing samples =  33070\n"
     ]
    }
   ],
   "source": [
    "#Splitting dataset into Train and Test sets\n",
    "from sklearn.model_selection import train_test_split\n",
    "XTrain, XTest, yTrain, yTest = train_test_split(X,y,test_size = 0.4)\n",
    "print(\"Training samples = \",len(XTrain))\n",
    "print(\"Testing samples = \",len(XTest))"
   ]
  },
  {
   "cell_type": "markdown",
   "metadata": {},
   "source": [
    "### Building CNN"
   ]
  },
  {
   "cell_type": "code",
   "execution_count": 7,
   "metadata": {
    "_uuid": "794f33cb9b9081aea36792b44758a1d993d55acb"
   },
   "outputs": [
    {
     "name": "stderr",
     "output_type": "stream",
     "text": [
      "Using TensorFlow backend.\n"
     ]
    }
   ],
   "source": [
    "#Importing ANN libraries\n",
    "from keras.models import Sequential\n",
    "from keras.layers import Convolution2D, MaxPooling2D, Dropout, Flatten, Dense\n",
    "from keras.layers.normalization import BatchNormalization"
   ]
  },
  {
   "cell_type": "code",
   "execution_count": 8,
   "metadata": {
    "_uuid": "83d6f809d1be53549cf814e2f42ced380367cda3"
   },
   "outputs": [],
   "source": [
    "#Inializing CNN\n",
    "classifier = Sequential()\n",
    "\n",
    "#Adding 1st Convolution Layer\n",
    "classifier.add(Convolution2D(filters=32, kernel_size=(3,3), strides=(1,1),input_shape=(H,W,3), activation='relu'))\n",
    "#Adding 1st MaxPooling Layer to reduce the size of Features\n",
    "classifier.add(MaxPooling2D(pool_size=(2,2), strides=(2,2)))\n",
    "\n",
    "#Adding Batch Normalization for Higher Learning Rate\n",
    "classifier.add(BatchNormalization())\n",
    "#Adding Dropout Layer to eliminate Overfitting\n",
    "classifier.add(Dropout(0.2))\n",
    "\n",
    "#Adding 2nd Convolution Layer\n",
    "classifier.add(Convolution2D(filters=32, kernel_size=(3,3), activation='relu'))\n",
    "#Adding 2nd MaxPooling Layer\n",
    "classifier.add(MaxPooling2D(pool_size=(2,2), strides=(2,2)))\n",
    "\n",
    "#Adding Flatten Layer to convert 2D matrix into an array\n",
    "classifier.add(Flatten())\n",
    "\n",
    "#Adding 1st Fully Connected Layer\n",
    "classifier.add(Dense(units=64, activation='relu'))\n",
    "#Adding Fully Connected Output Layer\n",
    "classifier.add(Dense(units=1, activation='sigmoid'))\n",
    "\n",
    "print(classifier.summary())"
   ]
  },
  {
   "cell_type": "markdown",
   "metadata": {},
   "source": [
    "### Compile and Fit the Model"
   ]
  },
  {
   "cell_type": "code",
   "execution_count": 9,
   "metadata": {
    "_uuid": "b309c031ad5b5c9b2cd85410f0c497b94d02c14a"
   },
   "outputs": [
    {
     "name": "stdout",
     "output_type": "stream",
     "text": [
      "Epoch 1/10\n",
      "49604/49604 [==============================] - 35s 709us/step - loss: 0.2579 - acc: 0.8950\n",
      "Epoch 2/10\n",
      "49604/49604 [==============================] - 34s 681us/step - loss: 0.1568 - acc: 0.9478\n",
      "Epoch 3/10\n",
      "49604/49604 [==============================] - 34s 687us/step - loss: 0.1404 - acc: 0.9521\n",
      "Epoch 4/10\n",
      "49604/49604 [==============================] - 34s 688us/step - loss: 0.1328 - acc: 0.9544\n",
      "Epoch 5/10\n",
      "49604/49604 [==============================] - 34s 679us/step - loss: 0.1260 - acc: 0.9563\n",
      "Epoch 6/10\n",
      "49604/49604 [==============================] - 34s 688us/step - loss: 0.1205 - acc: 0.9586\n",
      "Epoch 7/10\n",
      "49604/49604 [==============================] - 34s 681us/step - loss: 0.1156 - acc: 0.9591\n",
      "Epoch 8/10\n",
      "49604/49604 [==============================] - 34s 680us/step - loss: 0.1115 - acc: 0.9608\n",
      "Epoch 9/10\n",
      "49604/49604 [==============================] - 34s 690us/step - loss: 0.1044 - acc: 0.9630\n",
      "Epoch 10/10\n",
      "49604/49604 [==============================] - 34s 680us/step - loss: 0.1014 - acc: 0.9650\n"
     ]
    }
   ],
   "source": [
    "#Compiling the CNN\n",
    "classifier.compile(optimizer='adam', loss='binary_crossentropy', metrics=['accuracy'])\n",
    "\n",
    "#Fitting the model\n",
    "history = classifier.fit(XTrain, yTrain, batch_size=10, epochs=10)\n"
   ]
  },
  {
   "cell_type": "code",
   "execution_count": 10,
   "metadata": {
    "_uuid": "19a6aaee6e49039716d955d019caf6cfb0f9496e"
   },
   "outputs": [
    {
     "data": {
      "text/plain": [
       "<Figure size 432x288 with 0 Axes>"
      ]
     },
     "execution_count": 10,
     "metadata": {},
     "output_type": "execute_result"
    },
    {
     "data": {
      "image/png": "[encoded data removed]",
      "text/plain": [
       "<Figure size 432x288 with 1 Axes>"
      ]
     },
     "metadata": {},
     "output_type": "display_data"
    },
    {
     "data": {
      "text/plain": [
       "<Figure size 432x288 with 0 Axes>"
      ]
     },
     "metadata": {},
     "output_type": "display_data"
    }
   ],
   "source": [
    "from matplotlib import pyplot as plt\n",
    "plt.plot(history.history['acc'],'green')\n",
    "plt.plot(history.history['loss'],'red')\n",
    "plt.title('Model Accuracy-Loss')\n",
    "plt.xlabel('Epoch')\n",
    "plt.legend(['Accuracy','Loss'])\n",
    "plt.figure()\n"
   ]
  },
  {
   "cell_type": "markdown",
   "metadata": {},
   "source": [
    "### Predictions"
   ]
  },
  {
   "cell_type": "code",
   "execution_count": 11,
   "metadata": {
    "_uuid": "d3e5b86b53a73b42843da222499593ab27715265",
    "scrolled": false
   },
   "outputs": [
    {
     "name": "stdout",
     "output_type": "stream",
     "text": [
      "Artificial Neural Network Classifier :\n",
      "Accuracy =  0.8091926217115211\n",
      "[[10764  5690]\n",
      " [  620 15996]]\n"
     ]
    }
   ],
   "source": [
    "from sklearn.metrics import confusion_matrix, accuracy_score\n",
    "#Predicting the Test set Results\n",
    "yPred = classifier.predict(XTest)\n",
    "yPred = (yPred>0.5) #Since output is probability\n",
    "cm = confusion_matrix(yTest,yPred)\n",
    "accuracy = accuracy_score(yTest,yPred)\n",
    "print(\"Artificial Neural Network Classifier :\")\n",
    "print(\"Accuracy = \", accuracy)\n",
    "print(cm)"
   ]
  },
  {
   "cell_type": "markdown",
   "metadata": {},
   "source": [
    "### Save the model"
   ]
  },
  {
   "cell_type": "code",
   "execution_count": null,
   "metadata": {},
   "outputs": [],
   "source": [
    "classifier.save('Model.h5')"
   ]
  }
 ],
 "metadata": {
  "kernelspec": {
   "display_name": "Python 3",
   "language": "python",
   "name": "python3"
  },
  "language_info": {
   "codemirror_mode": {
    "name": "ipython",
    "version": 3
   },
   "file_extension": ".py",
   "mimetype": "text/x-python",
   "name": "python",
   "nbconvert_exporter": "python",
   "pygments_lexer": "ipython3",
   "version": "3.6.5"
  }
 },
 "nbformat": 4,
 "nbformat_minor": 1
}
